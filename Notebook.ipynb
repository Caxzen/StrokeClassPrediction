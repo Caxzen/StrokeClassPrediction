{
 "cells": [
  {
   "cell_type": "code",
   "execution_count": null,
   "metadata": {},
   "outputs": [],
   "source": []
  },
  {
   "cell_type": "code",
   "execution_count": null,
   "metadata": {
    "id": "LZdTCfNs7mA9"
   },
   "outputs": [],
   "source": [
    "import numpy as np\n",
    "import pandas as pd\n",
    "import seaborn as sns\n",
    "import matplotlib.pyplot as plt\n",
    "from sklearn.metrics import accuracy_score, f1_score, precision_score, recall_score, classification_report, confusion_matrix\n",
    "from sklearn.model_selection import cross_val_score, GridSearchCV, RandomizedSearchCV\n",
    "from keras.wrappers.scikit_learn import KerasClassifier\n",
    "from sklearn.model_selection import StratifiedKFold\n",
    "from sklearn.model_selection import train_test_split\n",
    "from sklearn.metrics import f1_score\n",
    "from keras.utils.np_utils import to_categorical\n",
    "from sklearn.utils import class_weight\n",
    "from sklearn.metrics import log_loss\n",
    "from tensorflow.keras import layers\n",
    "from tensorflow.keras.models import Sequential\n",
    "from tensorflow.keras.layers import Dense\n",
    "from tensorflow.keras.models import Model, load_model\n",
    "from tensorflow.keras.utils import to_categorical\n",
    "from tensorflow.keras.layers import Dropout\n",
    "from tensorflow.keras.layers import Flatten\n",
    "from tensorflow.keras.layers import Conv1D\n",
    "from tensorflow.keras.layers import MaxPooling1D"
   ]
  },
  {
   "cell_type": "code",
   "execution_count": null,
   "metadata": {},
   "outputs": [],
   "source": [
    "import numpy as np # linear algebra\n",
    "import os # accessing directory structure\n",
    "import pandas as pd # data processing, CSV file I/O (e.g. pd.read_csv)"
   ]
  },
  {
   "cell_type": "code",
   "execution_count": null,
   "metadata": {},
   "outputs": [],
   "source": [
    "df = pd.read_csv('dataset.csv', delimiter=';')"
   ]
  },
  {
   "cell_type": "code",
   "execution_count": null,
   "metadata": {},
   "outputs": [],
   "source": [
    "df.head()"
   ]
  },
  {
   "cell_type": "code",
   "execution_count": null,
   "metadata": {},
   "outputs": [],
   "source": [
    "df.dropna(axis=0, inplace=True)\n",
    "df.drop(df.columns[29:-2],axis=1, inplace=True)\n",
    "df.drop(['T','P','J','QRST','heart_rate'],axis=1, inplace=True)\n",
    "j = []\n",
    "for i in df.diagnosis:\n",
    "    if i > 1 :\n",
    "        j.append(1)\n",
    "    else:\n",
    "        j.append(0)\n",
    "df.diagnosis = j\n",
    "df.head()"
   ]
  },
  {
   "cell_type": "code",
   "execution_count": null,
   "metadata": {},
   "outputs": [],
   "source": [
    "df.info()"
   ]
  },
  {
   "cell_type": "code",
   "execution_count": null,
   "metadata": {},
   "outputs": [],
   "source": [
    "df.to_csv('processed.csv')"
   ]
  },
  {
   "cell_type": "code",
   "execution_count": null,
   "metadata": {
    "colab": {
     "base_uri": "https://localhost:8080/"
    },
    "id": "xe0ZB_esI4d2",
    "outputId": "ca7d3cb1-4e93-4cc0-d617-58fcfa5fb40c"
   },
   "outputs": [],
   "source": [
    "print(df.shape)"
   ]
  },
  {
   "cell_type": "code",
   "execution_count": null,
   "metadata": {},
   "outputs": [],
   "source": [
    "import seaborn as sns\n",
    "sns.countplot(x=\"diagnosis\", data = df)"
   ]
  },
  {
   "cell_type": "markdown",
   "metadata": {
    "id": "xIOHloxSK1Gd"
   },
   "source": [
    "Reshape X_train and X_test to 3D since Conv1D requires 3D data"
   ]
  },
  {
   "cell_type": "code",
   "execution_count": null,
   "metadata": {},
   "outputs": [],
   "source": [
    "X = df.iloc[:, 0:25]\n",
    "y = df.iloc[:,25]"
   ]
  },
  {
   "cell_type": "code",
   "execution_count": null,
   "metadata": {
    "id": "01b41vXdFwKK"
   },
   "outputs": [],
   "source": [
    "X_train=X.values\n",
    "X_test=X.values\n",
    "\n",
    "X_train = X_train.reshape(-1, X_train.shape[1],1)\n",
    "X_test = X_test.reshape(-1, X_test.shape[1],1)"
   ]
  },
  {
   "cell_type": "code",
   "execution_count": null,
   "metadata": {
    "colab": {
     "base_uri": "https://localhost:8080/"
    },
    "id": "Ys6QLpQqIzp5",
    "outputId": "8c09783c-2f76-4932-e374-924da1d6bc95"
   },
   "outputs": [],
   "source": [
    "print(X_train.shape)\n",
    "print(X_test.shape)"
   ]
  },
  {
   "cell_type": "markdown",
   "metadata": {
    "id": "iirR4KQzLEO-"
   },
   "source": [
    "Convert the Target label to categorical"
   ]
  },
  {
   "cell_type": "code",
   "execution_count": null,
   "metadata": {
    "id": "Tao2fGogFyCf"
   },
   "outputs": [],
   "source": [
    "target_train=y\n",
    "target_test=y\n",
    "Y_train=to_categorical(target_train)\n",
    "Y_test=to_categorical(target_test)"
   ]
  },
  {
   "cell_type": "code",
   "execution_count": null,
   "metadata": {
    "colab": {
     "base_uri": "https://localhost:8080/"
    },
    "id": "kU46s9VkJVWL",
    "outputId": "69eb134a-5ef3-4ab1-92f7-cc2e6ed1c1ec"
   },
   "outputs": [],
   "source": [
    "print(Y_train.shape)\n",
    "print(Y_test.shape)"
   ]
  },
  {
   "cell_type": "markdown",
   "metadata": {
    "id": "Pg_GT3ZKLIHC"
   },
   "source": [
    "Performance Evaluation Function"
   ]
  },
  {
   "cell_type": "code",
   "execution_count": null,
   "metadata": {
    "id": "CXhKBafzV_g8"
   },
   "outputs": [],
   "source": [
    "from sklearn.metrics import precision_score, recall_score, f1_score\n",
    "def showResults(test, pred):\n",
    "    #target_names = ['positive', 'negative']\n",
    "    # print(classification_report(test, pred, target_names=target_names))\n",
    "    accuracy = accuracy_score(test, pred)\n",
    "    precision=precision_score(test, pred, average='weighted')\n",
    "    f1Score=f1_score(test, pred, average='weighted')\n",
    "    recallScore=recall_score(test, pred, average='weighted') \n",
    "    #loss=log_loss(test,pred)\n",
    "    print(\"Accuracy  : {}\".format(accuracy))\n",
    "    print(\"Precision : {}\".format(precision))\n",
    "    print(\"F1Score : {}\".format(f1Score))\n",
    "    print(\"RecallScore : {}\".format(recallScore))\n",
    "    #print(\"Loss : {}\".format(loss))\n",
    "    cm=confusion_matrix(test, pred)\n",
    "    print(cm)"
   ]
  },
  {
   "cell_type": "markdown",
   "metadata": {
    "id": "WSKlP9LiHHGd"
   },
   "source": [
    "Model Defination"
   ]
  },
  {
   "cell_type": "markdown",
   "metadata": {},
   "source": [
    "# Machine Learning"
   ]
  },
  {
   "cell_type": "code",
   "execution_count": null,
   "metadata": {},
   "outputs": [],
   "source": [
    "\n",
    "data = pd.read_csv(\"processed.csv\")"
   ]
  },
  {
   "cell_type": "code",
   "execution_count": null,
   "metadata": {},
   "outputs": [],
   "source": [
    "data.info()"
   ]
  },
  {
   "cell_type": "code",
   "execution_count": null,
   "metadata": {},
   "outputs": [],
   "source": [
    "print(data.shape)"
   ]
  },
  {
   "cell_type": "code",
   "execution_count": null,
   "metadata": {},
   "outputs": [],
   "source": [
    "X = data.iloc[:, 1:26]\n",
    "y = data.iloc[:,26]"
   ]
  },
  {
   "cell_type": "code",
   "execution_count": null,
   "metadata": {},
   "outputs": [],
   "source": [
    "y"
   ]
  },
  {
   "cell_type": "markdown",
   "metadata": {},
   "source": []
  },
  {
   "cell_type": "code",
   "execution_count": null,
   "metadata": {},
   "outputs": [],
   "source": [
    "from sklearn.model_selection import cross_val_score\n",
    "from sklearn.metrics import classification_report\n",
    "from sklearn.metrics import confusion_matrix\n",
    "from sklearn.metrics import accuracy_score"
   ]
  },
  {
   "cell_type": "markdown",
   "metadata": {},
   "source": [
    "# Random Forest"
   ]
  },
  {
   "cell_type": "code",
   "execution_count": null,
   "metadata": {},
   "outputs": [],
   "source": [
    "from sklearn.ensemble import RandomForestClassifier\n",
    "RF = RandomForestClassifier()\n",
    "RF.fit(X, y)\n",
    "predictions = RF.predict(X)\n",
    "print(\"*Confusion Matrix for RF: \")\n",
    "print(confusion_matrix(y, predictions))"
   ]
  },
  {
   "cell_type": "code",
   "execution_count": 247,
   "metadata": {},
   "outputs": [
    {
     "name": "stdout",
     "output_type": "stream",
     "text": [
      "Random State: 1\n",
      "Accuracy: 70.33%\n",
      "Confusion Matrix:\n",
      "[[40 12]\n",
      " [15 24]]\n",
      "Random State: 2\n",
      "Accuracy: 64.84%\n",
      "Confusion Matrix:\n",
      "[[31 14]\n",
      " [18 28]]\n",
      "Random State: 3\n",
      "Accuracy: 73.63%\n",
      "Confusion Matrix:\n",
      "[[41  7]\n",
      " [17 26]]\n",
      "Random State: 4\n",
      "Accuracy: 70.33%\n",
      "Confusion Matrix:\n",
      "[[39 10]\n",
      " [17 25]]\n",
      "Random State: 5\n",
      "Accuracy: 62.64%\n",
      "Confusion Matrix:\n",
      "[[32 14]\n",
      " [20 25]]\n",
      "Random State: 6\n",
      "Accuracy: 69.23%\n",
      "Confusion Matrix:\n",
      "[[37 16]\n",
      " [12 26]]\n",
      "Random State: 7\n",
      "Accuracy: 70.33%\n",
      "Confusion Matrix:\n",
      "[[37 13]\n",
      " [14 27]]\n",
      "Random State: 8\n",
      "Accuracy: 63.74%\n",
      "Confusion Matrix:\n",
      "[[37 15]\n",
      " [18 21]]\n",
      "Random State: 9\n",
      "Accuracy: 72.53%\n",
      "Confusion Matrix:\n",
      "[[38 13]\n",
      " [12 28]]\n",
      "Random State: 10\n",
      "Accuracy: 69.23%\n",
      "Confusion Matrix:\n",
      "[[39 13]\n",
      " [15 24]]\n",
      "Random State: 11\n",
      "Accuracy: 72.53%\n",
      "Confusion Matrix:\n",
      "[[37 13]\n",
      " [12 29]]\n",
      "Random State: 12\n",
      "Accuracy: 74.73%\n",
      "Confusion Matrix:\n",
      "[[43 11]\n",
      " [12 25]]\n",
      "Random State: 13\n",
      "Accuracy: 64.84%\n",
      "Confusion Matrix:\n",
      "[[32 10]\n",
      " [22 27]]\n",
      "Random State: 14\n",
      "Accuracy: 71.43%\n",
      "Confusion Matrix:\n",
      "[[36 14]\n",
      " [12 29]]\n",
      "Random State: 15\n",
      "Accuracy: 75.82%\n",
      "Confusion Matrix:\n",
      "[[41 14]\n",
      " [ 8 28]]\n",
      "Random State: 16\n",
      "Accuracy: 61.54%\n",
      "Confusion Matrix:\n",
      "[[29 17]\n",
      " [18 27]]\n",
      "Random State: 17\n",
      "Accuracy: 71.43%\n",
      "Confusion Matrix:\n",
      "[[43  9]\n",
      " [17 22]]\n",
      "Random State: 18\n",
      "Accuracy: 73.63%\n",
      "Confusion Matrix:\n",
      "[[37 16]\n",
      " [ 8 30]]\n",
      "Random State: 19\n",
      "Accuracy: 63.74%\n",
      "Confusion Matrix:\n",
      "[[37 15]\n",
      " [18 21]]\n",
      "Random State: 20\n",
      "Accuracy: 64.84%\n",
      "Confusion Matrix:\n",
      "[[31 12]\n",
      " [20 28]]\n",
      "Random State: 21\n",
      "Accuracy: 67.03%\n",
      "Confusion Matrix:\n",
      "[[38  9]\n",
      " [21 23]]\n",
      "Random State: 22\n",
      "Accuracy: 68.13%\n",
      "Confusion Matrix:\n",
      "[[37 15]\n",
      " [14 25]]\n",
      "Random State: 23\n",
      "Accuracy: 74.73%\n",
      "Confusion Matrix:\n",
      "[[46  8]\n",
      " [15 22]]\n",
      "Random State: 24\n",
      "Accuracy: 74.73%\n",
      "Confusion Matrix:\n",
      "[[41 11]\n",
      " [12 27]]\n",
      "Random State: 25\n",
      "Accuracy: 58.24%\n",
      "Confusion Matrix:\n",
      "[[33 18]\n",
      " [20 20]]\n",
      "Random State: 26\n",
      "Accuracy: 73.63%\n",
      "Confusion Matrix:\n",
      "[[33 10]\n",
      " [14 34]]\n",
      "Random State: 27\n",
      "Accuracy: 74.73%\n",
      "Confusion Matrix:\n",
      "[[42 13]\n",
      " [10 26]]\n",
      "Random State: 28\n",
      "Accuracy: 70.33%\n",
      "Confusion Matrix:\n",
      "[[42  9]\n",
      " [18 22]]\n",
      "Random State: 29\n",
      "Accuracy: 78.02%\n",
      "Confusion Matrix:\n",
      "[[40  5]\n",
      " [15 31]]\n",
      "Random State: 30\n",
      "Accuracy: 73.63%\n",
      "Confusion Matrix:\n",
      "[[44 11]\n",
      " [13 23]]\n",
      "Random State: 31\n",
      "Accuracy: 70.33%\n",
      "Confusion Matrix:\n",
      "[[39 11]\n",
      " [16 25]]\n",
      "Random State: 32\n",
      "Accuracy: 64.84%\n",
      "Confusion Matrix:\n",
      "[[34 12]\n",
      " [20 25]]\n",
      "Random State: 33\n",
      "Accuracy: 69.23%\n",
      "Confusion Matrix:\n",
      "[[43  9]\n",
      " [19 20]]\n",
      "Random State: 34\n",
      "Accuracy: 71.43%\n",
      "Confusion Matrix:\n",
      "[[41 14]\n",
      " [12 24]]\n",
      "Random State: 35\n",
      "Accuracy: 76.92%\n",
      "Confusion Matrix:\n",
      "[[44 10]\n",
      " [11 26]]\n",
      "Random State: 36\n",
      "Accuracy: 65.93%\n",
      "Confusion Matrix:\n",
      "[[35  5]\n",
      " [26 25]]\n",
      "Random State: 37\n",
      "Accuracy: 69.23%\n",
      "Confusion Matrix:\n",
      "[[34  7]\n",
      " [21 29]]\n",
      "Random State: 38\n",
      "Accuracy: 61.54%\n",
      "Confusion Matrix:\n",
      "[[35 13]\n",
      " [22 21]]\n",
      "Random State: 39\n",
      "Accuracy: 64.84%\n",
      "Confusion Matrix:\n",
      "[[29 18]\n",
      " [14 30]]\n",
      "Random State: 40\n",
      "Accuracy: 64.84%\n",
      "Confusion Matrix:\n",
      "[[32 17]\n",
      " [15 27]]\n",
      "Random State: 41\n",
      "Accuracy: 69.23%\n",
      "Confusion Matrix:\n",
      "[[33 11]\n",
      " [17 30]]\n",
      "Random State: 42\n",
      "Accuracy: 64.84%\n",
      "Confusion Matrix:\n",
      "[[32 12]\n",
      " [20 27]]\n",
      "Random State: 43\n",
      "Accuracy: 69.23%\n",
      "Confusion Matrix:\n",
      "[[37 16]\n",
      " [12 26]]\n",
      "Random State: 44\n",
      "Accuracy: 71.43%\n",
      "Confusion Matrix:\n",
      "[[32 10]\n",
      " [16 33]]\n",
      "Random State: 45\n",
      "Accuracy: 71.43%\n",
      "Confusion Matrix:\n",
      "[[40  9]\n",
      " [17 25]]\n",
      "Random State: 46\n",
      "Accuracy: 71.43%\n",
      "Confusion Matrix:\n",
      "[[39 12]\n",
      " [14 26]]\n",
      "Random State: 47\n",
      "Accuracy: 73.63%\n",
      "Confusion Matrix:\n",
      "[[39 10]\n",
      " [14 28]]\n",
      "Random State: 48\n",
      "Accuracy: 69.23%\n",
      "Confusion Matrix:\n",
      "[[38 17]\n",
      " [11 25]]\n",
      "Random State: 49\n",
      "Accuracy: 64.84%\n",
      "Confusion Matrix:\n",
      "[[32  8]\n",
      " [24 27]]\n",
      "Random State: 50\n",
      "Accuracy: 75.82%\n",
      "Confusion Matrix:\n",
      "[[44 11]\n",
      " [11 25]]\n",
      "Random State: 51\n",
      "Accuracy: 67.03%\n",
      "Confusion Matrix:\n",
      "[[38 18]\n",
      " [12 23]]\n",
      "Random State: 52\n",
      "Accuracy: 64.84%\n",
      "Confusion Matrix:\n",
      "[[37 12]\n",
      " [20 22]]\n",
      "Random State: 53\n",
      "Accuracy: 71.43%\n",
      "Confusion Matrix:\n",
      "[[38  8]\n",
      " [18 27]]\n",
      "Random State: 54\n",
      "Accuracy: 75.82%\n",
      "Confusion Matrix:\n",
      "[[46 11]\n",
      " [11 23]]\n",
      "Random State: 55\n",
      "Accuracy: 74.73%\n",
      "Confusion Matrix:\n",
      "[[44 10]\n",
      " [13 24]]\n",
      "Random State: 56\n",
      "Accuracy: 73.63%\n",
      "Confusion Matrix:\n",
      "[[38  8]\n",
      " [16 29]]\n",
      "Random State: 57\n",
      "Accuracy: 69.23%\n",
      "Confusion Matrix:\n",
      "[[37  5]\n",
      " [23 26]]\n",
      "Random State: 58\n",
      "Accuracy: 76.92%\n",
      "Confusion Matrix:\n",
      "[[42  8]\n",
      " [13 28]]\n",
      "Random State: 59\n",
      "Accuracy: 69.23%\n",
      "Confusion Matrix:\n",
      "[[34 11]\n",
      " [17 29]]\n",
      "Random State: 60\n",
      "Accuracy: 70.33%\n",
      "Confusion Matrix:\n",
      "[[39 15]\n",
      " [12 25]]\n",
      "Random State: 61\n",
      "Accuracy: 67.03%\n",
      "Confusion Matrix:\n",
      "[[38 10]\n",
      " [20 23]]\n",
      "Random State: 62\n",
      "Accuracy: 67.03%\n",
      "Confusion Matrix:\n",
      "[[34  8]\n",
      " [22 27]]\n",
      "Random State: 63\n",
      "Accuracy: 75.82%\n",
      "Confusion Matrix:\n",
      "[[38  7]\n",
      " [15 31]]\n",
      "Random State: 64\n",
      "Accuracy: 76.92%\n",
      "Confusion Matrix:\n",
      "[[39  7]\n",
      " [14 31]]\n",
      "Random State: 65\n",
      "Accuracy: 75.82%\n",
      "Confusion Matrix:\n",
      "[[40  6]\n",
      " [16 29]]\n",
      "Random State: 66\n",
      "Accuracy: 72.53%\n",
      "Confusion Matrix:\n",
      "[[37 12]\n",
      " [13 29]]\n",
      "Random State: 67\n",
      "Accuracy: 68.13%\n",
      "Confusion Matrix:\n",
      "[[34 11]\n",
      " [18 28]]\n",
      "Random State: 68\n",
      "Accuracy: 61.54%\n",
      "Confusion Matrix:\n",
      "[[32 14]\n",
      " [21 24]]\n",
      "Random State: 69\n",
      "Accuracy: 75.82%\n",
      "Confusion Matrix:\n",
      "[[41  3]\n",
      " [19 28]]\n",
      "Random State: 70\n",
      "Accuracy: 67.03%\n",
      "Confusion Matrix:\n",
      "[[37 14]\n",
      " [16 24]]\n",
      "Random State: 71\n",
      "Accuracy: 72.53%\n",
      "Confusion Matrix:\n",
      "[[42  8]\n",
      " [17 24]]\n",
      "Random State: 72\n",
      "Accuracy: 72.53%\n",
      "Confusion Matrix:\n",
      "[[42 10]\n",
      " [15 24]]\n",
      "Random State: 73\n",
      "Accuracy: 71.43%\n",
      "Confusion Matrix:\n",
      "[[41 10]\n",
      " [16 24]]\n",
      "Random State: 74\n",
      "Accuracy: 76.92%\n",
      "Confusion Matrix:\n",
      "[[44 12]\n",
      " [ 9 26]]\n",
      "Random State: 75\n",
      "Accuracy: 72.53%\n",
      "Confusion Matrix:\n",
      "[[42 12]\n",
      " [13 24]]\n",
      "Random State: 76\n",
      "Accuracy: 68.13%\n",
      "Confusion Matrix:\n",
      "[[34  9]\n",
      " [20 28]]\n",
      "Random State: 77\n",
      "Accuracy: 72.53%\n",
      "Confusion Matrix:\n",
      "[[41 17]\n",
      " [ 8 25]]\n",
      "Random State: 78\n",
      "Accuracy: 75.82%\n",
      "Confusion Matrix:\n",
      "[[42  4]\n",
      " [18 27]]\n",
      "Random State: 79\n",
      "Accuracy: 68.13%\n",
      "Confusion Matrix:\n",
      "[[36 10]\n",
      " [19 26]]\n",
      "Random State: 80\n",
      "Accuracy: 65.93%\n",
      "Confusion Matrix:\n",
      "[[38 12]\n",
      " [19 22]]\n",
      "Random State: 81\n",
      "Accuracy: 67.03%\n",
      "Confusion Matrix:\n",
      "[[31 18]\n",
      " [12 30]]\n",
      "Random State: 82\n",
      "Accuracy: 70.33%\n",
      "Confusion Matrix:\n",
      "[[35 11]\n",
      " [16 29]]\n",
      "Random State: 83\n",
      "Accuracy: 61.54%\n",
      "Confusion Matrix:\n",
      "[[32 17]\n",
      " [18 24]]\n",
      "Random State: 84\n",
      "Accuracy: 70.33%\n",
      "Confusion Matrix:\n",
      "[[37 10]\n",
      " [17 27]]\n",
      "Random State: 85\n",
      "Accuracy: 72.53%\n",
      "Confusion Matrix:\n",
      "[[37 15]\n",
      " [10 29]]\n",
      "Random State: 86\n",
      "Accuracy: 69.23%\n",
      "Confusion Matrix:\n",
      "[[42 11]\n",
      " [17 21]]\n",
      "Random State: 87\n",
      "Accuracy: 71.43%\n",
      "Confusion Matrix:\n",
      "[[37 10]\n",
      " [16 28]]\n",
      "Random State: 88\n",
      "Accuracy: 73.63%\n",
      "Confusion Matrix:\n",
      "[[43  8]\n",
      " [16 24]]\n",
      "Random State: 89\n",
      "Accuracy: 67.03%\n",
      "Confusion Matrix:\n",
      "[[41 12]\n",
      " [18 20]]\n",
      "Random State: 90\n",
      "Accuracy: 73.63%\n",
      "Confusion Matrix:\n",
      "[[42  7]\n",
      " [17 25]]\n",
      "Random State: 91\n",
      "Accuracy: 75.82%\n",
      "Confusion Matrix:\n",
      "[[47 10]\n",
      " [12 22]]\n",
      "Random State: 92\n",
      "Accuracy: 75.82%\n",
      "Confusion Matrix:\n",
      "[[51  6]\n",
      " [16 18]]\n",
      "Random State: 93\n",
      "Accuracy: 68.13%\n",
      "Confusion Matrix:\n",
      "[[35 11]\n",
      " [18 27]]\n",
      "Random State: 94\n",
      "Accuracy: 68.13%\n",
      "Confusion Matrix:\n",
      "[[34 16]\n",
      " [13 28]]\n",
      "Random State: 95\n",
      "Accuracy: 71.43%\n",
      "Confusion Matrix:\n",
      "[[37 12]\n",
      " [14 28]]\n",
      "Random State: 96\n",
      "Accuracy: 61.54%\n",
      "Confusion Matrix:\n",
      "[[37 16]\n",
      " [19 19]]\n",
      "Random State: 97\n",
      "Accuracy: 72.53%\n",
      "Confusion Matrix:\n",
      "[[38 11]\n",
      " [14 28]]\n",
      "Random State: 98\n",
      "Accuracy: 71.43%\n",
      "Confusion Matrix:\n",
      "[[36 14]\n",
      " [12 29]]\n",
      "Random State: 99\n",
      "Accuracy: 68.13%\n",
      "Confusion Matrix:\n",
      "[[39  9]\n",
      " [20 23]]\n",
      "Random State: 100\n",
      "Accuracy: 74.73%\n",
      "Confusion Matrix:\n",
      "[[43 17]\n",
      " [ 6 25]]\n"
     ]
    }
   ],
   "source": []
  },
  {
   "cell_type": "code",
   "execution_count": 252,
   "metadata": {},
   "outputs": [
    {
     "name": "stdout",
     "output_type": "stream",
     "text": [
      "Confusion Matrix:\n",
      "[[38  7]\n",
      " [14 32]]\n",
      "Accuracy: 76.92%\n",
      "Sensitivity: 69.57%\n",
      "Specificity: 84.44%\n"
     ]
    }
   ],
   "source": [
    "# import necessary libraries\n",
    "import pandas as pd\n",
    "from sklearn.model_selection import train_test_split\n",
    "from sklearn.metrics import confusion_matrix, accuracy_score\n",
    "from sklearn.ensemble import RandomForestClassifier\n",
    "\n",
    "# load the dataset\n",
    "data = pd.read_csv('processed.csv')\n",
    "\n",
    "# split the dataset into input features (X) and target variable (y)\n",
    "X = data.iloc[:, 1:26]\n",
    "y = data.iloc[:, 26]\n",
    "\n",
    "# split the dataset into training and testing sets\n",
    "X_train, X_test, y_train, y_test = train_test_split(X, y, test_size=0.2, random_state=29)\n",
    "\n",
    "# initialize the random forest classifier and fit it to the training data\n",
    "rfc = RandomForestClassifier()\n",
    "rfc.fit(X_train, y_train)\n",
    "\n",
    "# use the trained model to make predictions on the testing set\n",
    "y_pred = rfc.predict(X_test)\n",
    "\n",
    "# evaluate the performance of the model using a confusion matrix\n",
    "confusion = confusion_matrix(y_test, y_pred)\n",
    "print(\"Confusion Matrix:\")\n",
    "print(confusion)\n",
    "\n",
    "# calculate the accuracy of the model\n",
    "accuracy = accuracy_score(y_test, y_pred)\n",
    "print(\"Accuracy: {:.2f}%\".format(accuracy*100))\n",
    "\n",
    "# calculate the sensitivity and specificity of the model\n",
    "tn, fp, fn, tp = confusion.ravel()\n",
    "sensitivity = tp / (tp + fn)\n",
    "specificity = tn / (tn + fp)\n",
    "print(\"Sensitivity: {:.2f}%\".format(sensitivity*100))\n",
    "print(\"Specificity: {:.2f}%\".format(specificity*100))"
   ]
  },
  {
   "cell_type": "code",
   "execution_count": null,
   "metadata": {},
   "outputs": [],
   "source": [
    "confusion = confusion_matrix(y, predictions)\n",
    "TP = confusion[0, 0]\n",
    "TN = confusion[1, 1]\n",
    "FP = confusion[0, 1]\n",
    "FN = confusion[1, 0]\n",
    "classification_error = (FP + FN) / float(TP + TN + FP + FN)\n",
    "\n",
    "print(classification_error)\n",
    "val1 = accuracy_score(y, predictions) *100\n",
    "print(val1)\n",
    "from sklearn import metrics\n",
    "RF_sensitivity = ((TP / float(FN + TP)))* 100\n",
    "\n",
    "print(RF_sensitivity)\n",
    "RF_specificity = ((TN / (TN + FP))) * 100\n",
    "\n",
    "print(RF_specificity)"
   ]
  },
  {
   "cell_type": "code",
   "execution_count": null,
   "metadata": {},
   "outputs": [],
   "source": [
    "precision=precision_score(y, predictions, average='weighted')\n",
    "f1Score=f1_score(y, predictions, average='weighted')\n",
    "recallScore=recall_score(y, predictions, average='weighted') "
   ]
  },
  {
   "cell_type": "code",
   "execution_count": null,
   "metadata": {},
   "outputs": [],
   "source": [
    "print(\"Precision : {}\".format(precision))\n",
    "print(\"F1Score : {}\".format(f1Score))\n",
    "print(\"RecallScore : {}\".format(recallScore))"
   ]
  },
  {
   "cell_type": "markdown",
   "metadata": {},
   "source": [
    "# Decision Tree"
   ]
  },
  {
   "cell_type": "code",
   "execution_count": null,
   "metadata": {},
   "outputs": [],
   "source": [
    "from sklearn import tree\n",
    "DT = tree.DecisionTreeClassifier()\n",
    "DT.fit(X, y)\n",
    "predictions = DT.predict(X)\n",
    "print(\"*Confusion Matrix for DT: \")\n",
    "print(confusion_matrix(y, predictions))"
   ]
  },
  {
   "cell_type": "code",
   "execution_count": null,
   "metadata": {},
   "outputs": [],
   "source": [
    "confusion = confusion_matrix(y, predictions)\n",
    "TP = confusion[0, 0]\n",
    "TN = confusion[1, 1]\n",
    "FP = confusion[0, 1]\n",
    "FN = confusion[1, 0]\n",
    "classification_error = (FP + FN) / float(TP + TN + FP + FN)\n",
    "\n",
    "print(classification_error)\n",
    "val2 = accuracy_score(y, predictions) *100\n",
    "print(val2)\n",
    "from sklearn import metrics\n",
    "DT_sensitivity = ((TP / float(FN + TP)))* 100\n",
    "\n",
    "print(DT_sensitivity)\n",
    "DT_specificity = ((TN / (TN + FP))) * 100\n",
    "\n",
    "print(DT_specificity)"
   ]
  },
  {
   "cell_type": "code",
   "execution_count": null,
   "metadata": {},
   "outputs": [],
   "source": [
    "precision=precision_score(y, predictions, average='weighted')\n",
    "f1Score=f1_score(y, predictions, average='weighted')\n",
    "recallScore=recall_score(y, predictions, average='weighted') "
   ]
  },
  {
   "cell_type": "code",
   "execution_count": null,
   "metadata": {},
   "outputs": [],
   "source": [
    "print(\"Precision : {}\".format(precision))\n",
    "print(\"F1Score : {}\".format(f1Score))\n",
    "print(\"RecallScore : {}\".format(recallScore))"
   ]
  },
  {
   "cell_type": "markdown",
   "metadata": {},
   "source": [
    "# Support Vector Machine"
   ]
  },
  {
   "cell_type": "code",
   "execution_count": null,
   "metadata": {},
   "outputs": [],
   "source": [
    "from sklearn.svm import SVC\n",
    "clf = SVC(gamma='auto')\n",
    "clf.fit(X, y)\n",
    "predictions = clf.predict(X)\n",
    "print(\"*Confusion Matrix for SVM: \")\n",
    "print(confusion_matrix(y, predictions))\n",
    "confusion = confusion_matrix(y, predictions)\n",
    "TP = confusion[0, 0]\n",
    "TN = confusion[1, 1]\n",
    "FP = confusion[0, 1]\n",
    "FN = confusion[1, 0]\n",
    "classification_error = (FP + FN) / float(TP + TN + FP + FN)\n",
    "\n",
    "print(classification_error)\n",
    "val7 = accuracy_score(y, predictions) *100\n",
    "print(val7)\n",
    "from sklearn import metrics\n",
    "SVM_sensitivity = ((TP / float(FN + TP)))* 100\n",
    "\n",
    "print(SVM_sensitivity)\n",
    "SVM_specificity = ((TN / (TN + FP))) * 100\n",
    "\n",
    "print(SVM_specificity)"
   ]
  },
  {
   "cell_type": "code",
   "execution_count": null,
   "metadata": {},
   "outputs": [],
   "source": [
    "precision=precision_score(y, predictions, average='weighted')\n",
    "f1Score=f1_score(y, predictions, average='weighted')\n",
    "recallScore=recall_score(y, predictions, average='weighted')\n",
    "\n",
    "print(\"Precision : {}\".format(precision))\n",
    "print(\"F1Score : {}\".format(f1Score))\n",
    "print(\"RecallScore : {}\".format(recallScore))"
   ]
  },
  {
   "cell_type": "markdown",
   "metadata": {},
   "source": [
    "# Voting Classifier"
   ]
  },
  {
   "cell_type": "code",
   "execution_count": null,
   "metadata": {},
   "outputs": [],
   "source": [
    "from sklearn.svm import SVC\n",
    "from sklearn.tree import DecisionTreeClassifier\n",
    "from sklearn.ensemble import RandomForestClassifier, VotingClassifier\n",
    "clf1 = SVC(gamma='auto')\n",
    "clf2 = RandomForestClassifier(n_estimators=10, random_state=1)\n",
    "clf3 = DecisionTreeClassifier()\n",
    "eclf1 = VotingClassifier(estimators=[('lr', clf1), ('rf', clf2), ('dt', clf3)], voting='hard')\n",
    "eclf1.fit(X, y)\n",
    "predictions = eclf1.predict(X)\n",
    "print(\"*Confusion Matrix for Voting Classifier: \")\n",
    "print(confusion_matrix(y, predictions))"
   ]
  },
  {
   "cell_type": "code",
   "execution_count": null,
   "metadata": {},
   "outputs": [],
   "source": [
    "confusion = confusion_matrix(y, predictions)\n",
    "TP = confusion[0, 0]\n",
    "TN = confusion[1, 1]\n",
    "FP = confusion[0, 1]\n",
    "FN = confusion[1, 0]\n",
    "classification_error = (FP + FN) / float(TP + TN + FP + FN)\n",
    "\n",
    "print(classification_error)\n",
    "val8 = accuracy_score(y, predictions) * 100\n",
    "print(val8)\n",
    "from sklearn import metrics\n",
    "VOT_sensitivity = ((TP / float(FN + TP))) * 100\n",
    "\n",
    "print(VOT_sensitivity)\n",
    "VOT_specificity = ((TN / (TN + FP))) * 100\n",
    "\n",
    "print(VOT_specificity)"
   ]
  },
  {
   "cell_type": "code",
   "execution_count": null,
   "metadata": {},
   "outputs": [],
   "source": [
    "precision=precision_score(y, predictions, average='weighted')\n",
    "f1Score=f1_score(y, predictions, average='weighted')\n",
    "recallScore=recall_score(y, predictions, average='weighted')\n",
    "\n",
    "print(\"Precision : {}\".format(precision))\n",
    "print(\"F1Score : {}\".format(f1Score))\n",
    "print(\"RecallScore : {}\".format(recallScore))"
   ]
  },
  {
   "cell_type": "markdown",
   "metadata": {},
   "source": [
    "# Accuracy Comparison"
   ]
  },
  {
   "cell_type": "code",
   "execution_count": null,
   "metadata": {},
   "outputs": [],
   "source": [
    "score = [val1,val2,val3,val4,val5,val6,val7,val8,val9,val10,cnn[19]*100,hyd[50]*100,lstm[50]*100,bilstm[50]*100,hyd1[50]*100]"
   ]
  },
  {
   "cell_type": "code",
   "execution_count": null,
   "metadata": {},
   "outputs": [],
   "source": [
    "#make variabel for save the result and to show it\n",
    "classifier = ('Random Forest','Decision Tree','Support Vector Machine','Voting Classifier')\n",
    "y_pos = np.arange(len(classifier))\n",
    "print(y_pos)\n",
    "print(score)"
   ]
  },
  {
   "cell_type": "code",
   "execution_count": null,
   "metadata": {},
   "outputs": [],
   "source": [
    "import matplotlib.pyplot as plt2\n",
    "plt2.barh(y_pos, score, align='center', alpha=0.5,color='blue')\n",
    "plt2.yticks(y_pos, classifier)\n",
    "plt2.xlabel('Score')\n",
    "plt2.title('Classification Performance')\n",
    "plt2.show()"
   ]
  },
  {
   "cell_type": "code",
   "execution_count": null,
   "metadata": {},
   "outputs": [],
   "source": [
    "import joblib\n",
    "filename = 'model.sav'\n",
    "joblib.dump(eclf1, filename)"
   ]
  },
  {
   "cell_type": "code",
   "execution_count": null,
   "metadata": {},
   "outputs": [],
   "source": []
  }
 ],
 "metadata": {
  "accelerator": "GPU",
  "colab": {
   "collapsed_sections": [],
   "name": "notebook.ipynb",
   "provenance": []
  },
  "kernelspec": {
   "display_name": "Python 3",
   "language": "python",
   "name": "python3"
  },
  "language_info": {
   "codemirror_mode": {
    "name": "ipython",
    "version": 3
   },
   "file_extension": ".py",
   "mimetype": "text/x-python",
   "name": "python",
   "nbconvert_exporter": "python",
   "pygments_lexer": "ipython3",
   "version": "3.9.6"
  },
  "vscode": {
   "interpreter": {
    "hash": "31f2aee4e71d21fbe5cf8b01ff0e069b9275f58929596ceb00d14d90e3e16cd6"
   }
  }
 },
 "nbformat": 4,
 "nbformat_minor": 1
}
